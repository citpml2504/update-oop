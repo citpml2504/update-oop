{
  "nbformat": 4,
  "nbformat_minor": 0,
  "metadata": {
    "colab": {
      "provenance": []
    },
    "kernelspec": {
      "name": "python3",
      "display_name": "Python 3"
    },
    "language_info": {
      "name": "python"
    }
  },
  "cells": [
    {
      "cell_type": "code",
      "source": [
        "def add(a , b):\n",
        "  return a + b\n",
        "\n",
        "add(10,15)"
      ],
      "metadata": {
        "colab": {
          "base_uri": "https://localhost:8080/"
        },
        "id": "-AoK5F4J5LJU",
        "outputId": "43042954-d712-4943-bb26-bcc11d29f32c"
      },
      "execution_count": null,
      "outputs": [
        {
          "output_type": "execute_result",
          "data": {
            "text/plain": [
              "25"
            ]
          },
          "metadata": {},
          "execution_count": 1
        }
      ]
    },
    {
      "cell_type": "code",
      "source": [
        "class name:\n",
        "  # method\n",
        "  def add(self,a , b):\n",
        "    return a + b\n",
        "\n",
        "n1= name() # create object\n",
        "n1.add(10,15)"
      ],
      "metadata": {
        "colab": {
          "base_uri": "https://localhost:8080/"
        },
        "id": "vIMt7Nwl5QIP",
        "outputId": "fdebd5b8-f894-4496-e8c6-7b9f26ca2958"
      },
      "execution_count": null,
      "outputs": [
        {
          "output_type": "execute_result",
          "data": {
            "text/plain": [
              "25"
            ]
          },
          "metadata": {},
          "execution_count": 5
        }
      ]
    },
    {
      "cell_type": "code",
      "source": [
        "class name:\n",
        "  # method\n",
        "  def __init__(self,a , b):\n",
        "    print(a + b)\n",
        "\n",
        "n1= name(10,15) # create object\n"
      ],
      "metadata": {
        "colab": {
          "base_uri": "https://localhost:8080/"
        },
        "id": "1-jyXG8T6Kau",
        "outputId": "03c0ff8e-589d-489c-f558-959399f7df48"
      },
      "execution_count": null,
      "outputs": [
        {
          "output_type": "stream",
          "name": "stdout",
          "text": [
            "25\n"
          ]
        }
      ]
    },
    {
      "cell_type": "code",
      "source": [
        "class name:\n",
        "  # method\n",
        "  def add(self,a , b):\n",
        "    num1 = a\n",
        "    num2 = b\n",
        "\n",
        "  def show(self,num1,num2):\n",
        "    return(f\"value of a is {num1} and b is {num2}\")\n",
        "\n",
        "\n",
        "n1= name() # create object\n",
        "n1.show(10,15)"
      ],
      "metadata": {
        "colab": {
          "base_uri": "https://localhost:8080/",
          "height": 35
        },
        "id": "Y4ASXL-4604_",
        "outputId": "32d0a793-0e3d-41ad-a39c-5a5a35fdf223"
      },
      "execution_count": null,
      "outputs": [
        {
          "output_type": "execute_result",
          "data": {
            "text/plain": [
              "'value of a is 10 and b is 15'"
            ],
            "application/vnd.google.colaboratory.intrinsic+json": {
              "type": "string"
            }
          },
          "metadata": {},
          "execution_count": 18
        }
      ]
    },
    {
      "cell_type": "code",
      "source": [
        "class name:\n",
        "  # method\n",
        "  def add(self,a , b):\n",
        "    self.num1 = a\n",
        "    self.num2 = b\n",
        "\n",
        "  def show(self):\n",
        "    return(f\"value of a is {self.num1} and b is {self.num2}\")\n",
        "\n",
        "\n",
        "n1= name() # create object\n",
        "n1.add(12,15)\n",
        "n1.show()"
      ],
      "metadata": {
        "colab": {
          "base_uri": "https://localhost:8080/",
          "height": 35
        },
        "id": "vgkzvOkM-Fvc",
        "outputId": "b17a9368-c687-4ea4-81d9-08af41dee775"
      },
      "execution_count": null,
      "outputs": [
        {
          "output_type": "execute_result",
          "data": {
            "text/plain": [
              "'value of a is 12 and b is 15'"
            ],
            "application/vnd.google.colaboratory.intrinsic+json": {
              "type": "string"
            }
          },
          "metadata": {},
          "execution_count": 21
        }
      ]
    },
    {
      "cell_type": "code",
      "source": [
        "n1.add(102,15)\n",
        "n1.show()"
      ],
      "metadata": {
        "colab": {
          "base_uri": "https://localhost:8080/",
          "height": 35
        },
        "id": "5IEHc0rg-5tr",
        "outputId": "379e8eec-73f9-436b-bbab-a963e4b3505d"
      },
      "execution_count": null,
      "outputs": [
        {
          "output_type": "execute_result",
          "data": {
            "text/plain": [
              "'value of a is 102 and b is 15'"
            ],
            "application/vnd.google.colaboratory.intrinsic+json": {
              "type": "string"
            }
          },
          "metadata": {},
          "execution_count": 22
        }
      ]
    },
    {
      "cell_type": "code",
      "source": [
        "class nam:\n",
        "  def __init__(self):\n",
        "    print(\"abesh\")\n",
        "\n",
        "  def __init__(self):\n",
        "    print(\"amira\")\n",
        "n= nam()\n"
      ],
      "metadata": {
        "colab": {
          "base_uri": "https://localhost:8080/"
        },
        "id": "mjunz9x4Arli",
        "outputId": "d39079a0-86d3-48d0-e570-d36734e64f5c"
      },
      "execution_count": null,
      "outputs": [
        {
          "output_type": "stream",
          "name": "stdout",
          "text": [
            "amira\n"
          ]
        }
      ]
    },
    {
      "cell_type": "code",
      "source": [
        "class name:\n",
        "  # method\n",
        "  def __init__(self,a , b):\n",
        "    self.num1 = a\n",
        "    self.num2 = b\n",
        "\n",
        "  def show(self):\n",
        "    return(f\"value of a is {self.num1} and b is {self.num2}\")\n",
        "\n",
        "\n",
        "n1= name(12,15) # create object\n",
        "n1.show()"
      ],
      "metadata": {
        "colab": {
          "base_uri": "https://localhost:8080/",
          "height": 35
        },
        "id": "GIHIWDEaBkLj",
        "outputId": "3d4ec25a-da9c-4644-f06a-7fb2d3bda536"
      },
      "execution_count": null,
      "outputs": [
        {
          "output_type": "execute_result",
          "data": {
            "text/plain": [
              "'value of a is 12 and b is 15'"
            ],
            "application/vnd.google.colaboratory.intrinsic+json": {
              "type": "string"
            }
          },
          "metadata": {},
          "execution_count": 27
        }
      ]
    },
    {
      "cell_type": "code",
      "source": [
        "class name:\n",
        "  # method\n",
        "  def __init__(self,a , b):\n",
        "    self.num1 = a\n",
        "    self.num2 = b\n",
        "\n",
        "  def __str__(self):\n",
        "    return(f\"value of a is {self.num1} and b is {self.num2}\")\n",
        "\n",
        "\n",
        "n1= name(\"safwan\",\"sajib\") # create object\n",
        "print(n1)"
      ],
      "metadata": {
        "colab": {
          "base_uri": "https://localhost:8080/"
        },
        "id": "8GZCeeFhB8PK",
        "outputId": "d2128aa9-e4f6-4a41-da12-9eebfbf4793d"
      },
      "execution_count": null,
      "outputs": [
        {
          "output_type": "stream",
          "name": "stdout",
          "text": [
            "value of a is safwan and b is sajib\n"
          ]
        }
      ]
    },
    {
      "cell_type": "code",
      "source": [
        "class info:\n",
        "  def inf(peu, name, age, pro):\n",
        "    peu.num1 = name\n",
        "    peu.num2 = age\n",
        "    peu.num3 = pro\n",
        "\n",
        "  def display(peu):\n",
        "    print(f\"her name is {peu.num1} and her age is {peu.num2} and profession is {peu.num3}\")\n",
        "\n",
        "person1= info()\n",
        "person1.inf(\"amira\",120, \"stu\")\n",
        "person1.display()"
      ],
      "metadata": {
        "colab": {
          "base_uri": "https://localhost:8080/"
        },
        "id": "vmFteLSnCuCS",
        "outputId": "1500338e-ece2-4e5e-ff94-7d3d5cf68d2c"
      },
      "execution_count": null,
      "outputs": [
        {
          "output_type": "stream",
          "name": "stdout",
          "text": [
            "her name is amira and her age is 120 and profession is stu\n"
          ]
        }
      ]
    },
    {
      "cell_type": "code",
      "source": [
        "class info:\n",
        "  def inf(peu, name, age, pro):\n",
        "    num1 = name\n",
        "    num2 = age\n",
        "    num3 = pro\n",
        "    print(f\"her name is {num1} and her age is {num2} and profession is {num3}\")\n",
        "\n",
        "person1= info()\n",
        "person1.inf(\"amira\",120, \"stu\")\n"
      ],
      "metadata": {
        "colab": {
          "base_uri": "https://localhost:8080/"
        },
        "id": "fvrMKy5bDL4C",
        "outputId": "85a66184-2e1a-4e91-d0b1-080c6d28623b"
      },
      "execution_count": null,
      "outputs": [
        {
          "output_type": "stream",
          "name": "stdout",
          "text": [
            "her name is amira and her age is 120 and profession is stu\n"
          ]
        }
      ]
    },
    {
      "cell_type": "code",
      "source": [
        "class info:\n",
        "  def inf(peu, name, age, pro):\n",
        "    peu.name = name\n",
        "    peu.age = age\n",
        "    peu.pro = pro\n",
        "\n",
        "person1= info()\n",
        "person1.inf(\"Sajib\", 20, \"stu\")\n",
        "print(getattr(person1 , \"name\"))\n"
      ],
      "metadata": {
        "colab": {
          "base_uri": "https://localhost:8080/"
        },
        "id": "LqvrSi-VFvda",
        "outputId": "abf7f710-3cde-46f4-dbf3-6a3928b0fca3"
      },
      "execution_count": null,
      "outputs": [
        {
          "output_type": "stream",
          "name": "stdout",
          "text": [
            "Sajib\n"
          ]
        }
      ]
    },
    {
      "cell_type": "code",
      "source": [
        "class info:\n",
        "  def inf(peu, name, age, pro):\n",
        "    peu.name = name\n",
        "    peu.age = age\n",
        "    peu.pro = pro\n",
        "\n",
        "person1= info()\n",
        "person1.inf(\"Sajib\", 20, \"stu\")# constructor\n",
        "setattr(person1, \"name\",\"omi\")\n",
        "print(getattr(person1 , \"name\"))\n",
        "print(hasattr(person1,\"naa\"))"
      ],
      "metadata": {
        "colab": {
          "base_uri": "https://localhost:8080/"
        },
        "id": "pAzjPS6LGutq",
        "outputId": "0d9635a9-ff24-4271-c43c-e1f78d927998"
      },
      "execution_count": null,
      "outputs": [
        {
          "output_type": "stream",
          "name": "stdout",
          "text": [
            "omi\n",
            "False\n"
          ]
        }
      ]
    },
    {
      "cell_type": "code",
      "source": [
        "class inf:\n",
        "  def add(self, a , b):\n",
        "    return  self.a + self.b\n",
        "  def sub(self):\n",
        "    return self.a - self.b\n",
        "\n",
        "  def display(self,a, b):\n",
        "    if a%2 ==0:\n",
        "      return self.add()\n",
        "    else:\n",
        "      return self.sub()\n",
        "\n",
        "n = inf()\n",
        "n.display(11,18)\n"
      ],
      "metadata": {
        "colab": {
          "base_uri": "https://localhost:8080/",
          "height": 321
        },
        "id": "a3ivNvnyImvA",
        "outputId": "84576fff-afe2-47a6-887d-0a6788752f30"
      },
      "execution_count": null,
      "outputs": [
        {
          "output_type": "error",
          "ename": "AttributeError",
          "evalue": "'inf' object has no attribute 'a'",
          "traceback": [
            "\u001b[0;31m---------------------------------------------------------------------------\u001b[0m",
            "\u001b[0;31mAttributeError\u001b[0m                            Traceback (most recent call last)",
            "\u001b[0;32m/tmp/ipython-input-2675699823.py\u001b[0m in \u001b[0;36m<cell line: 0>\u001b[0;34m()\u001b[0m\n\u001b[1;32m     12\u001b[0m \u001b[0;34m\u001b[0m\u001b[0m\n\u001b[1;32m     13\u001b[0m \u001b[0mn\u001b[0m \u001b[0;34m=\u001b[0m \u001b[0minf\u001b[0m\u001b[0;34m(\u001b[0m\u001b[0;34m)\u001b[0m\u001b[0;34m\u001b[0m\u001b[0;34m\u001b[0m\u001b[0m\n\u001b[0;32m---> 14\u001b[0;31m \u001b[0mn\u001b[0m\u001b[0;34m.\u001b[0m\u001b[0mdisplay\u001b[0m\u001b[0;34m(\u001b[0m\u001b[0;36m11\u001b[0m\u001b[0;34m,\u001b[0m\u001b[0;36m18\u001b[0m\u001b[0;34m)\u001b[0m\u001b[0;34m\u001b[0m\u001b[0;34m\u001b[0m\u001b[0m\n\u001b[0m",
            "\u001b[0;32m/tmp/ipython-input-2675699823.py\u001b[0m in \u001b[0;36mdisplay\u001b[0;34m(self, a, b)\u001b[0m\n\u001b[1;32m      9\u001b[0m       \u001b[0;32mreturn\u001b[0m \u001b[0mself\u001b[0m\u001b[0;34m.\u001b[0m\u001b[0madd\u001b[0m\u001b[0;34m(\u001b[0m\u001b[0;34m)\u001b[0m\u001b[0;34m\u001b[0m\u001b[0;34m\u001b[0m\u001b[0m\n\u001b[1;32m     10\u001b[0m     \u001b[0;32melse\u001b[0m\u001b[0;34m:\u001b[0m\u001b[0;34m\u001b[0m\u001b[0;34m\u001b[0m\u001b[0m\n\u001b[0;32m---> 11\u001b[0;31m       \u001b[0;32mreturn\u001b[0m \u001b[0mself\u001b[0m\u001b[0;34m.\u001b[0m\u001b[0msub\u001b[0m\u001b[0;34m(\u001b[0m\u001b[0;34m)\u001b[0m\u001b[0;34m\u001b[0m\u001b[0;34m\u001b[0m\u001b[0m\n\u001b[0m\u001b[1;32m     12\u001b[0m \u001b[0;34m\u001b[0m\u001b[0m\n\u001b[1;32m     13\u001b[0m \u001b[0mn\u001b[0m \u001b[0;34m=\u001b[0m \u001b[0minf\u001b[0m\u001b[0;34m(\u001b[0m\u001b[0;34m)\u001b[0m\u001b[0;34m\u001b[0m\u001b[0;34m\u001b[0m\u001b[0m\n",
            "\u001b[0;32m/tmp/ipython-input-2675699823.py\u001b[0m in \u001b[0;36msub\u001b[0;34m(self)\u001b[0m\n\u001b[1;32m      3\u001b[0m     \u001b[0;32mreturn\u001b[0m  \u001b[0mself\u001b[0m\u001b[0;34m.\u001b[0m\u001b[0ma\u001b[0m \u001b[0;34m+\u001b[0m \u001b[0mself\u001b[0m\u001b[0;34m.\u001b[0m\u001b[0mb\u001b[0m\u001b[0;34m\u001b[0m\u001b[0;34m\u001b[0m\u001b[0m\n\u001b[1;32m      4\u001b[0m   \u001b[0;32mdef\u001b[0m \u001b[0msub\u001b[0m\u001b[0;34m(\u001b[0m\u001b[0mself\u001b[0m\u001b[0;34m)\u001b[0m\u001b[0;34m:\u001b[0m\u001b[0;34m\u001b[0m\u001b[0;34m\u001b[0m\u001b[0m\n\u001b[0;32m----> 5\u001b[0;31m     \u001b[0;32mreturn\u001b[0m \u001b[0mself\u001b[0m\u001b[0;34m.\u001b[0m\u001b[0ma\u001b[0m \u001b[0;34m-\u001b[0m \u001b[0mself\u001b[0m\u001b[0;34m.\u001b[0m\u001b[0mb\u001b[0m\u001b[0;34m\u001b[0m\u001b[0;34m\u001b[0m\u001b[0m\n\u001b[0m\u001b[1;32m      6\u001b[0m \u001b[0;34m\u001b[0m\u001b[0m\n\u001b[1;32m      7\u001b[0m   \u001b[0;32mdef\u001b[0m \u001b[0mdisplay\u001b[0m\u001b[0;34m(\u001b[0m\u001b[0mself\u001b[0m\u001b[0;34m,\u001b[0m\u001b[0ma\u001b[0m\u001b[0;34m,\u001b[0m \u001b[0mb\u001b[0m\u001b[0;34m)\u001b[0m\u001b[0;34m:\u001b[0m\u001b[0;34m\u001b[0m\u001b[0;34m\u001b[0m\u001b[0m\n",
            "\u001b[0;31mAttributeError\u001b[0m: 'inf' object has no attribute 'a'"
          ]
        }
      ]
    },
    {
      "cell_type": "code",
      "source": [
        "class inf:\n",
        "  def __init__(self, a, b):\n",
        "    self.a = a\n",
        "    self.b = b\n",
        "\n",
        "  def add(self):\n",
        "    return self.a + self.b\n",
        "\n",
        "  def sub(self):\n",
        "    return self.a - self.b\n",
        "\n",
        "  def display(self):\n",
        "    if  self.a % 2 == 0:\n",
        "      return self.add()\n",
        "    else:\n",
        "      return self.sub()\n",
        "\n",
        "n = inf(12, 18)\n",
        "n.display()\n"
      ],
      "metadata": {
        "colab": {
          "base_uri": "https://localhost:8080/"
        },
        "id": "HS7YBbKVK6GI",
        "outputId": "e08876e3-53af-48ac-e7b2-c1cbd28cdaaa"
      },
      "execution_count": null,
      "outputs": [
        {
          "output_type": "execute_result",
          "data": {
            "text/plain": [
              "30"
            ]
          },
          "metadata": {},
          "execution_count": 61
        }
      ]
    },
    {
      "cell_type": "code",
      "source": [],
      "metadata": {
        "id": "Lp-XeT8EM7RY"
      },
      "execution_count": null,
      "outputs": []
    }
  ]
}